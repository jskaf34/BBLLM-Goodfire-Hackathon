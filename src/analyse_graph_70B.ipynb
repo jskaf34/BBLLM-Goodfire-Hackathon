{
 "cells": [
  {
   "cell_type": "code",
   "execution_count": 1,
   "metadata": {},
   "outputs": [
    {
     "data": {
      "text/plain": [
       "'/Users/jskaf/BBLLM-Goodfire-Hackathon/src'"
      ]
     },
     "execution_count": 1,
     "metadata": {},
     "output_type": "execute_result"
    }
   ],
   "source": [
    "import os\n",
    "\n",
    "cwd = os.path.abspath(\"\")\n",
    "cwd"
   ]
  },
  {
   "cell_type": "code",
   "execution_count": 2,
   "metadata": {},
   "outputs": [
    {
     "name": "stdout",
     "output_type": "stream",
     "text": [
      "/Users/jskaf/BBLLM-Goodfire-Hackathon\n"
     ]
    },
    {
     "name": "stderr",
     "output_type": "stream",
     "text": [
      "/Users/jskaf/BBLLM-Goodfire-Hackathon/.venv/lib/python3.12/site-packages/IPython/core/magics/osm.py:417: UserWarning: This is now an optional IPython functionality, setting dhist requires you to install the `pickleshare` library.\n",
      "  self.shell.db['dhist'] = compress_dhist(dhist)[-100:]\n"
     ]
    },
    {
     "data": {
      "text/plain": [
       "'/Users/jskaf/BBLLM-Goodfire-Hackathon'"
      ]
     },
     "execution_count": 2,
     "metadata": {},
     "output_type": "execute_result"
    }
   ],
   "source": [
    "%cd ..\n",
    "os.path.abspath(\"\")"
   ]
  },
  {
   "cell_type": "code",
   "execution_count": 3,
   "metadata": {},
   "outputs": [
    {
     "data": {
      "text/plain": [
       "'/Users/jskaf/BBLLM-Goodfire-Hackathon/data/graph_70B.weighted'"
      ]
     },
     "execution_count": 3,
     "metadata": {},
     "output_type": "execute_result"
    }
   ],
   "source": [
    "THRESHOLD_EDGE = 3\n",
    "PATH_GRAPH = os.path.join(os.path.abspath(\"\"), \"data\", \"graph_70B.weighted\")\n",
    "PATH_GRAPH"
   ]
  },
  {
   "cell_type": "code",
   "execution_count": 4,
   "metadata": {},
   "outputs": [],
   "source": [
    "import networkx as nx\n",
    "\n",
    "G = nx.read_weighted_edgelist(PATH_GRAPH, nodetype=int)"
   ]
  },
  {
   "cell_type": "code",
   "execution_count": 5,
   "metadata": {},
   "outputs": [
    {
     "name": "stdout",
     "output_type": "stream",
     "text": [
      "23398 263983\n"
     ]
    }
   ],
   "source": [
    "print(len(G.nodes), len(G.edges))"
   ]
  },
  {
   "cell_type": "code",
   "execution_count": 6,
   "metadata": {},
   "outputs": [
    {
     "data": {
      "text/plain": [
       "0.0009644218561813173"
      ]
     },
     "execution_count": 6,
     "metadata": {},
     "output_type": "execute_result"
    }
   ],
   "source": [
    "nx.density(G)"
   ]
  },
  {
   "cell_type": "code",
   "execution_count": 7,
   "metadata": {},
   "outputs": [],
   "source": [
    "G.remove_edges_from([(u, v) for u, v, w in G.edges(data=True) if w['weight'] < THRESHOLD_EDGE])"
   ]
  },
  {
   "cell_type": "code",
   "execution_count": 8,
   "metadata": {},
   "outputs": [
    {
     "name": "stdout",
     "output_type": "stream",
     "text": [
      "23398 17618\n"
     ]
    }
   ],
   "source": [
    "print(len(G.nodes), len(G.edges))"
   ]
  },
  {
   "cell_type": "code",
   "execution_count": 9,
   "metadata": {},
   "outputs": [
    {
     "data": {
      "text/plain": [
       "6.436469114375717e-05"
      ]
     },
     "execution_count": 9,
     "metadata": {},
     "output_type": "execute_result"
    }
   ],
   "source": [
    "nx.density(G)"
   ]
  },
  {
   "cell_type": "code",
   "execution_count": 10,
   "metadata": {},
   "outputs": [
    {
     "name": "stdout",
     "output_type": "stream",
     "text": [
      "Nombre de composantes connectées : 13698\n",
      "Nombre de composantes déconnectées : 9700\n"
     ]
    }
   ],
   "source": [
    "nb_composantes = nx.number_connected_components(G)\n",
    "nb_noeuds_total = G.number_of_nodes()\n",
    "print(f'Nombre de composantes connectées : {nb_composantes}')\n",
    "print(f'Nombre de composantes déconnectées : {nb_noeuds_total - nb_composantes}')\n",
    "largest_cc = max(nx.connected_components(G), key=len)\n",
    "sous_graphe = G.subgraph(largest_cc).copy() "
   ]
  },
  {
   "cell_type": "code",
   "execution_count": 11,
   "metadata": {},
   "outputs": [
    {
     "name": "stdout",
     "output_type": "stream",
     "text": [
      "8925 16807\n"
     ]
    }
   ],
   "source": [
    "print(len(sous_graphe.nodes), len(sous_graphe.edges))"
   ]
  },
  {
   "cell_type": "code",
   "execution_count": 12,
   "metadata": {},
   "outputs": [
    {
     "data": {
      "text/plain": [
       "0.0004220388289784762"
      ]
     },
     "execution_count": 12,
     "metadata": {},
     "output_type": "execute_result"
    }
   ],
   "source": [
    "nx.density(sous_graphe)"
   ]
  },
  {
   "cell_type": "code",
   "execution_count": 16,
   "metadata": {},
   "outputs": [],
   "source": [
    "MAPPING_FILE = os.path.join(os.path.abspath(\"\"), \"data\", \"index_label_mapping_70B.json\")\n",
    "import json\n",
    "\n",
    "with open(MAPPING_FILE, 'r') as f:\n",
    "    node_mapping = json.load(f)\n",
    "\n",
    "mapping = {int(k): v for k, v in node_mapping.items()}\n",
    "    \n",
    "final_graph = nx.relabel_nodes(sous_graphe, mapping)"
   ]
  },
  {
   "cell_type": "code",
   "execution_count": 17,
   "metadata": {},
   "outputs": [
    {
     "data": {
      "application/vnd.jupyter.widget-view+json": {
       "model_id": "4fa32d5c90484cd3a2ae776f6fc9dfcf",
       "version_major": 2,
       "version_minor": 0
      },
      "text/plain": [
       "Sigma(nx.Graph with 8,704 nodes and 16,663 edges)"
      ]
     },
     "execution_count": 17,
     "metadata": {},
     "output_type": "execute_result"
    }
   ],
   "source": [
    "import ipysigma\n",
    "\n",
    "ipysigma.Sigma(final_graph,   node_metrics={\"community\": {\"name\": \"louvain\", \"resolution\": 1.5}},\n",
    "  node_color=\"community\", edge_size = 'weight')"
   ]
  },
  {
   "cell_type": "code",
   "execution_count": 19,
   "metadata": {},
   "outputs": [],
   "source": [
    "#Save the graph\n",
    "nx.write_weighted_edgelist(sous_graphe, os.path.join(os.path.abspath(\"\"), \"data\", \"graph_filtered_70B.weighted\"))"
   ]
  },
  {
   "cell_type": "code",
   "execution_count": null,
   "metadata": {},
   "outputs": [],
   "source": []
  }
 ],
 "metadata": {
  "kernelspec": {
   "display_name": ".venv",
   "language": "python",
   "name": "python3"
  },
  "language_info": {
   "codemirror_mode": {
    "name": "ipython",
    "version": 3
   },
   "file_extension": ".py",
   "mimetype": "text/x-python",
   "name": "python",
   "nbconvert_exporter": "python",
   "pygments_lexer": "ipython3",
   "version": "3.12.2"
  }
 },
 "nbformat": 4,
 "nbformat_minor": 2
}
