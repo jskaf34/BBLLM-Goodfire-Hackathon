{
 "cells": [
  {
   "cell_type": "code",
   "execution_count": 7,
   "metadata": {},
   "outputs": [
    {
     "data": {
      "text/plain": [
       "'/Users/jskaf/BBLLM-Goodfire-Hackathon'"
      ]
     },
     "execution_count": 7,
     "metadata": {},
     "output_type": "execute_result"
    }
   ],
   "source": [
    "import os\n",
    "\n",
    "cwd = os.path.abspath(\"\")\n",
    "cwd"
   ]
  },
  {
   "cell_type": "code",
   "execution_count": null,
   "metadata": {},
   "outputs": [],
   "source": [
    "%cd ..\n",
    "os.path.abspath(\"\")"
   ]
  },
  {
   "cell_type": "code",
   "execution_count": null,
   "metadata": {},
   "outputs": [
    {
     "data": {
      "text/plain": [
       "'/Users/jskaf/BBLLM-Goodfire-Hackathon/data/graph.weighted'"
      ]
     },
     "execution_count": 9,
     "metadata": {},
     "output_type": "execute_result"
    }
   ],
   "source": [
    "THRESHOLD_EDGE = 3\n",
    "PATH_GRAPH = os.path.join(os.path.abspath(\"\"), \"data\", \"graph_8B.weighted\")\n",
    "PATH_GRAPH"
   ]
  },
  {
   "cell_type": "code",
   "execution_count": 23,
   "metadata": {},
   "outputs": [],
   "source": [
    "import networkx as nx\n",
    "\n",
    "G = nx.read_weighted_edgelist(PATH_GRAPH, nodetype=int)"
   ]
  },
  {
   "cell_type": "code",
   "execution_count": 24,
   "metadata": {},
   "outputs": [
    {
     "name": "stdout",
     "output_type": "stream",
     "text": [
      "32642 612345\n"
     ]
    }
   ],
   "source": [
    "print(len(G.nodes), len(G.edges))"
   ]
  },
  {
   "cell_type": "code",
   "execution_count": 25,
   "metadata": {},
   "outputs": [
    {
     "data": {
      "text/plain": [
       "0.001149439072249825"
      ]
     },
     "execution_count": 25,
     "metadata": {},
     "output_type": "execute_result"
    }
   ],
   "source": [
    "nx.density(G)"
   ]
  },
  {
   "cell_type": "code",
   "execution_count": 26,
   "metadata": {},
   "outputs": [],
   "source": [
    "G.remove_edges_from([(u, v) for u, v, w in G.edges(data=True) if w['weight'] < THRESHOLD_EDGE])"
   ]
  },
  {
   "cell_type": "code",
   "execution_count": 27,
   "metadata": {},
   "outputs": [
    {
     "name": "stdout",
     "output_type": "stream",
     "text": [
      "32642 81188\n"
     ]
    }
   ],
   "source": [
    "print(len(G.nodes), len(G.edges))"
   ]
  },
  {
   "cell_type": "code",
   "execution_count": 28,
   "metadata": {},
   "outputs": [
    {
     "data": {
      "text/plain": [
       "0.00015239882647497536"
      ]
     },
     "execution_count": 28,
     "metadata": {},
     "output_type": "execute_result"
    }
   ],
   "source": [
    "nx.density(G)"
   ]
  },
  {
   "cell_type": "code",
   "execution_count": 29,
   "metadata": {},
   "outputs": [
    {
     "name": "stdout",
     "output_type": "stream",
     "text": [
      "Nombre de composantes connectées : 10252\n",
      "Nombre de composantes déconnectées : 22390\n"
     ]
    }
   ],
   "source": [
    "nb_composantes = nx.number_connected_components(G)\n",
    "nb_noeuds_total = G.number_of_nodes()\n",
    "print(f'Nombre de composantes connectées : {nb_composantes}')\n",
    "print(f'Nombre de composantes déconnectées : {nb_noeuds_total - nb_composantes}')\n",
    "largest_cc = max(nx.connected_components(G), key=len)\n",
    "sous_graphe = G.subgraph(largest_cc).copy() "
   ]
  },
  {
   "cell_type": "code",
   "execution_count": 32,
   "metadata": {},
   "outputs": [
    {
     "name": "stdout",
     "output_type": "stream",
     "text": [
      "21983 80712\n"
     ]
    }
   ],
   "source": [
    "print(len(sous_graphe.nodes), len(sous_graphe.edges))"
   ]
  },
  {
   "cell_type": "code",
   "execution_count": 33,
   "metadata": {},
   "outputs": [
    {
     "data": {
      "text/plain": [
       "0.00033405189615735734"
      ]
     },
     "execution_count": 33,
     "metadata": {},
     "output_type": "execute_result"
    }
   ],
   "source": [
    "nx.density(sous_graphe)"
   ]
  },
  {
   "cell_type": "code",
   "execution_count": null,
   "metadata": {},
   "outputs": [],
   "source": [
    "MAPPING_FILE = os.path.join(cwd, \"data\", \"index_label_mapping_8B.json\")\n",
    "import json\n",
    "\n",
    "with open(MAPPING_FILE, 'r') as f:\n",
    "    node_mapping = json.load(f)\n",
    "\n",
    "mapping = {int(k): v for k, v in node_mapping.items()}\n",
    "    \n",
    "final_graph = nx.relabel_nodes(sous_graphe, mapping)"
   ]
  },
  {
   "cell_type": "code",
   "execution_count": 39,
   "metadata": {},
   "outputs": [
    {
     "data": {
      "application/vnd.jupyter.widget-view+json": {
       "model_id": "74d907768b694ff09dd89c4e6923a490",
       "version_major": 2,
       "version_minor": 0
      },
      "text/plain": [
       "Sigma(nx.Graph with 21,107 nodes and 79,689 edges)"
      ]
     },
     "execution_count": 39,
     "metadata": {},
     "output_type": "execute_result"
    }
   ],
   "source": [
    "import ipysigma\n",
    "\n",
    "ipysigma.Sigma(final_graph,   node_metrics={\"community\": {\"name\": \"louvain\", \"resolution\": 1.5}},\n",
    "  node_color=\"community\", edge_size = 'weight')"
   ]
  },
  {
   "cell_type": "code",
   "execution_count": 38,
   "metadata": {},
   "outputs": [],
   "source": [
    "#Save the graph\n",
    "nx.write_weighted_edgelist(sous_graphe, os.path.join(cwd, \"data\", \"graph_filtered.weighted\"))"
   ]
  },
  {
   "cell_type": "code",
   "execution_count": null,
   "metadata": {},
   "outputs": [],
   "source": []
  }
 ],
 "metadata": {
  "kernelspec": {
   "display_name": ".venv",
   "language": "python",
   "name": "python3"
  },
  "language_info": {
   "codemirror_mode": {
    "name": "ipython",
    "version": 3
   },
   "file_extension": ".py",
   "mimetype": "text/x-python",
   "name": "python",
   "nbconvert_exporter": "python",
   "pygments_lexer": "ipython3",
   "version": "3.12.2"
  }
 },
 "nbformat": 4,
 "nbformat_minor": 2
}
