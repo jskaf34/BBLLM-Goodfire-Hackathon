{
 "cells": [
  {
   "cell_type": "code",
   "execution_count": 37,
   "metadata": {},
   "outputs": [
    {
     "data": {
      "text/plain": [
       "'sk-goodfire-oOExgMvlySAV4tL_B5F1l18ADVdzNunC7XP2_6Rinvz72Y8hKVh6GA'"
      ]
     },
     "execution_count": 37,
     "metadata": {},
     "output_type": "execute_result"
    }
   ],
   "source": [
    "import os\n",
    "from dotenv import load_dotenv\n",
    "\n",
    "load_dotenv()\n",
    "\n",
    "goodfire_api_key = os.getenv('GOODFIRE_API_KEY')\n",
    "goodfire_api_key"
   ]
  },
  {
   "cell_type": "code",
   "execution_count": 38,
   "metadata": {},
   "outputs": [],
   "source": [
    "import goodfire\n",
    "\n",
    "client = goodfire.Client(\n",
    "    goodfire_api_key\n",
    "  )\n",
    "\n",
    "# Instantiate a model variant\n",
    "variant = goodfire.Variant(\"meta-llama/Meta-Llama-3-8B-Instruct\")"
   ]
  },
  {
   "cell_type": "code",
   "execution_count": 39,
   "metadata": {},
   "outputs": [
    {
     "name": "stdout",
     "output_type": "stream",
     "text": [
      "Hello there! Not much is going on, just"
     ]
    }
   ],
   "source": [
    "for token in client.chat.completions.create(\n",
    "    [\n",
    "        {\"role\": \"user\", \"content\": \"hi, what is going on?\"}\n",
    "    ],\n",
    "    model=variant,\n",
    "    stream=True,\n",
    "    max_completion_tokens=10,\n",
    "):\n",
    "    print(token.choices[0].delta.content, end=\"\")"
   ]
  },
  {
   "cell_type": "code",
   "execution_count": 40,
   "metadata": {},
   "outputs": [
    {
     "data": {
      "text/plain": [
       "FeatureGroup([\n",
       "   0: \"Pirate-related language and themes\",\n",
       "   1: \"Pirate characters and themes in fiction and role-playing games\",\n",
       "   2: \"The model should roleplay as a pirate\",\n",
       "   3: \"Mischievous behavior and troublemaking\",\n",
       "   4: \"Mentions of rum, especially in pirate or cocktail contexts\",\n",
       "   5: \"Willingness to do anything to achieve a goal, especially unethically\",\n",
       "   6: \"Data transfer verbs in non-English languages\",\n",
       "   7: \"Disguise or pretending to be someone else for infiltration or undercover purposes\",\n",
       "   8: \"Entering or being inside an enclosed space\",\n",
       "   9: \"Inclusion or being part of something\"\n",
       "])"
      ]
     },
     "execution_count": 40,
     "metadata": {},
     "output_type": "execute_result"
    }
   ],
   "source": [
    "pirate_features, relevance = client.features.search(\n",
    "    \"pirate\",\n",
    "    model=variant,\n",
    ")\n",
    "pirate_features"
   ]
  },
  {
   "cell_type": "code",
   "execution_count": 41,
   "metadata": {},
   "outputs": [
    {
     "data": {
      "text/plain": [
       "[0.5869783759117126,\n",
       " 0.5635083913803101,\n",
       " 0.550840437412262,\n",
       " 0.4005439579486847,\n",
       " 0.3884296119213104,\n",
       " 0.3563142716884613,\n",
       " 0.35086721181869507,\n",
       " 0.3506142497062683,\n",
       " 0.35008418560028076,\n",
       " 0.3474602699279785]"
      ]
     },
     "execution_count": 41,
     "metadata": {},
     "output_type": "execute_result"
    }
   ],
   "source": [
    "relevance"
   ]
  },
  {
   "cell_type": "code",
   "execution_count": 46,
   "metadata": {},
   "outputs": [
    {
     "data": {
      "text/plain": [
       "Token(\"<|begin_of_text|>\")"
      ]
     },
     "execution_count": 46,
     "metadata": {},
     "output_type": "execute_result"
    }
   ],
   "source": [
    "context = client.features.inspect(\n",
    "    [\n",
    "        {\n",
    "            \"role\": \"user\",\n",
    "            \"content\": \"A\"\n",
    "        },\n",
    "    ],\n",
    "    model=variant,\n",
    ")\n",
    "context.tokens[0]"
   ]
  },
  {
   "cell_type": "code",
   "execution_count": 58,
   "metadata": {},
   "outputs": [
    {
     "name": "stdout",
     "output_type": "stream",
     "text": [
      "<|begin_of_text|>\n",
      "[{'id': '4fc41346-7ec0-4fc1-9f34-637e2ea1656a', 'index_in_sae': 31937, 'activation_strength': 93.0}, {'id': '156ceea3-671b-4c6a-852c-1efcdb598372', 'index_in_sae': 21750, 'activation_strength': 87.5}, {'id': 'bee06a46-2a53-4c6a-a812-8639591c6a0c', 'index_in_sae': 34540, 'activation_strength': 84.0}, {'id': '4d5e0a4e-f711-4280-94e9-7d0948bd21bb', 'index_in_sae': 21914, 'activation_strength': 83.5}, {'id': '836ea72b-0ad8-4ed3-a411-3e24353d5f29', 'index_in_sae': 41765, 'activation_strength': 75.5}, {'id': 'b81de401-1975-48ee-b06f-7246e875b072', 'index_in_sae': 38838, 'activation_strength': 0.05712890625}, {'id': 'f560e0e1-7025-4e25-b5c4-e55f92b926c3', 'index_in_sae': 31786, 'activation_strength': 0.055908203125}, {'id': '2351ec8f-2edc-4ae9-8bd0-d87bc5d8f0d4', 'index_in_sae': 8966, 'activation_strength': 0.0322265625}, {'id': '84d42d0a-2d1d-4369-899c-525da57d70ce', 'index_in_sae': 5513, 'activation_strength': 0.0306396484375}, {'id': 'a24e50ee-e057-46e6-a10a-8053e0e31eef', 'index_in_sae': 2910, 'activation_strength': 0.0303955078125}, {'id': '8eb082c8-c6c6-453a-bed5-714e9e4443ac', 'index_in_sae': 47343, 'activation_strength': 0.0299072265625}, {'id': '995f8cb7-7894-44c7-8299-46b928066722', 'index_in_sae': 64606, 'activation_strength': 0.0264892578125}, {'id': 'f8294525-920b-4f8b-b493-d7d5372167ea', 'index_in_sae': 29848, 'activation_strength': 0.0262451171875}, {'id': '0ae0f8b0-7189-40ba-8b16-e706ff582569', 'index_in_sae': 59603, 'activation_strength': 0.02587890625}, {'id': '942f4e1e-64fa-46dc-9f54-79777ee5799f', 'index_in_sae': 22120, 'activation_strength': 0.0244140625}, {'id': 'dec59cad-ab5a-439e-873b-aabd336ff1f4', 'index_in_sae': 58087, 'activation_strength': 0.022216796875}, {'id': 'b97ec291-c881-40c8-9026-a72481a5bc3f', 'index_in_sae': 45879, 'activation_strength': 0.0218505859375}, {'id': 'dcdac7bb-a621-4589-b6c6-4c69ff7f4d4e', 'index_in_sae': 39345, 'activation_strength': 0.0206298828125}, {'id': '63a1e051-b833-4bed-ad97-fb38c705964d', 'index_in_sae': 21025, 'activation_strength': 0.0198974609375}, {'id': '90ee522d-46fa-4ea6-a71a-e63dfccb73a0', 'index_in_sae': 31571, 'activation_strength': 0.018310546875}]\n"
     ]
    }
   ],
   "source": [
    "index = 0\n",
    "print(context.tokens[index]._token)\n",
    "print(context.tokens[index]._feature_acts)"
   ]
  },
  {
   "cell_type": "code",
   "execution_count": 59,
   "metadata": {},
   "outputs": [
    {
     "data": {
      "text/plain": [
       "FeatureActivations(\n",
       "   0: (Feature(\"feature_31937\"), 93.0)\n",
       "   1: (Feature(\"Conversation turn structure and role transitions\"), 87.5)\n",
       "   2: (Feature(\"feature_34540\"), 84.0)\n",
       "   3: (Feature(\"Beginning of a new conversation or input\"), 83.5)\n",
       "   4: (Feature(\"Detection of new input or conversation start\"), 75.5)\n",
       ")"
      ]
     },
     "execution_count": 59,
     "metadata": {},
     "output_type": "execute_result"
    }
   ],
   "source": [
    "context.tokens[index].inspect()"
   ]
  },
  {
   "cell_type": "code",
   "execution_count": null,
   "metadata": {},
   "outputs": [
    {
     "name": "stdout",
     "output_type": "stream",
     "text": [
      "<|begin_of_text|>\n",
      "FeatureActivations(\n",
      "   0: (Feature(\"feature_31937\"), 93.0)\n",
      "   1: (Feature(\"Conversation turn structure and role transitions\"), 87.5)\n",
      "   2: (Feature(\"feature_34540\"), 84.0)\n",
      "   3: (Feature(\"Beginning of a new conversation or input\"), 83.5)\n",
      "   4: (Feature(\"Detection of new input or conversation start\"), 75.5)\n",
      ")\n",
      "<|start_header_id|>\n",
      "FeatureActivations(\n",
      "   0: (Feature(\"End of message token in multi-turn conversations\"), 0.006439208984375)\n",
      "   1: (Feature(\"Contrastive conjunctions balancing difficulties with solutions\"), 0.0)\n",
      "   2: (Feature(\"The assistant needs clarification\"), 0.0)\n",
      "   3: (Feature(\"The model is providing troubleshooting steps or guidance\"), 0.0)\n",
      "   4: (Feature(\"Punctuation marks used for pacing and engagement in teaching contexts\"), 0.0)\n",
      ")\n",
      "user\n",
      "FeatureActivations(\n",
      "   0: (Feature(\"Start of user input in conversation\"), 2.078125)\n",
      "   1: (Feature(\"Contrastive conjunctions balancing difficulties with solutions\"), 0.0)\n",
      "   2: (Feature(\"The assistant needs clarification\"), 0.0)\n",
      "   3: (Feature(\"The model is providing troubleshooting steps or guidance\"), 0.0)\n",
      "   4: (Feature(\"Punctuation marks used for pacing and engagement in teaching contexts\"), 0.0)\n",
      ")\n",
      "<|end_header_id|>\n",
      "FeatureActivations(\n",
      "   0: (Feature(\"End of user header in structured conversation format\"), 3.84375)\n",
      "   1: (Feature(\"Contrastive conjunctions balancing difficulties with solutions\"), 0.0)\n",
      "   2: (Feature(\"The assistant needs clarification\"), 0.0)\n",
      "   3: (Feature(\"The model is providing troubleshooting steps or guidance\"), 0.0)\n",
      "   4: (Feature(\"Punctuation marks used for pacing and engagement in teaching contexts\"), 0.0)\n",
      ")\n",
      "\n",
      "\n",
      "\n",
      "FeatureActivations(\n",
      "   0: (Feature(\"The model's turn to speak in a conversation\"), 3.15625)\n",
      "   1: (Feature(\"Geographic entity recognition and punctuation in location descriptions\"), 0.0108642578125)\n",
      "   2: (Feature(\"Detection of special characters and unusual text encodings\"), 0.006011962890625)\n",
      "   3: (Feature(\"Beginning of model's response or new conversation segment\"), 0.005828857421875)\n",
      "   4: (Feature(\"Beginning of header in conversation format\"), 0.002593994140625)\n",
      ")\n",
      "B\n",
      "FeatureActivations(\n",
      "   0: (Feature(\"Capitalized 'B' at word beginnings\"), 5.09375)\n",
      "   1: (Feature(\"Beginning of a new statement or scenario with an indefinite article\"), 2.828125)\n",
      "   2: (Feature(\"Multilingual summary or conclusion request\"), 1.6640625)\n",
      "   3: (Feature(\"Beginning of task or problem description\"), 1.1015625)\n",
      "   4: (Feature(\"Uppercase letter B, often in vitamin or business contexts\"), 0.7265625)\n",
      ")\n",
      " +\n",
      "FeatureActivations(\n",
      "   0: (Feature(\"Addition symbol in mathematical expressions\"), 2.640625)\n",
      "   1: (Feature(\"Special characters used in formatting and escaping\"), 1.8359375)\n",
      "   2: (Feature(\"ASCII art structural elements (especially '+' symbols)\"), 1.4921875)\n",
      "   3: (Feature(\"Addition operator in mathematical expressions\"), 1.3828125)\n",
      "   4: (Feature(\"Mathematical comparison and equation symbols\"), 1.328125)\n",
      ")\n",
      " A\n",
      "FeatureActivations(\n",
      "   0: (Feature(\"Small integer digits in mathematical contexts\"), 2.078125)\n",
      "   1: (Feature(\"First option (A) in multiple choice questions\"), 1.5703125)\n",
      "   2: (Feature(\"Uppercase letter sequences in various contexts\"), 1.2109375)\n",
      "   3: (Feature(\"Variable 'a' in programming and mathematics\"), 1.1171875)\n",
      "   4: (Feature(\"Portuguese event announcements and invitations\"), 0.9453125)\n",
      ")\n",
      "<|eot_id|>\n",
      "FeatureActivations(\n",
      "   0: (Feature(\"End of message token in conversation format\"), 2.0625)\n",
      "   1: (Feature(\"End of model's response in conversation\"), 1.484375)\n",
      "   2: (Feature(\"End of user input in conversation\"), 0.60546875)\n",
      "   3: (Feature(\"End of message/turn in structured conversations\"), 0.56640625)\n",
      "   4: (Feature(\"Basic arithmetic facts involving the number 2, especially 2+2=4\"), 0.31640625)\n",
      ")\n"
     ]
    }
   ],
   "source": [
    "context = client.features.inspect(\n",
    "    [\n",
    "        {\n",
    "            \"role\": \"user\",\n",
    "            \"content\": \"B + A\"\n",
    "        },\n",
    "    ],\n",
    "    model=variant,\n",
    "\n",
    ")\n",
    "for token in context.tokens:\n",
    "    print(token._token)\n",
    "    print(token.inspect())"
   ]
  },
  {
   "cell_type": "code",
   "execution_count": null,
   "metadata": {},
   "outputs": [
    {
     "name": "stdout",
     "output_type": "stream",
     "text": [
      "<|begin_of_text|>\n",
      "FeatureActivations(\n",
      "   0: (Feature(\"feature_31937\"), 93.0)\n",
      "   1: (Feature(\"Conversation turn structure and role transitions\"), 87.5)\n",
      "   2: (Feature(\"feature_34540\"), 84.0)\n",
      "   3: (Feature(\"Beginning of a new conversation or input\"), 83.5)\n",
      "   4: (Feature(\"Detection of new input or conversation start\"), 75.5)\n",
      ")\n",
      "<|start_header_id|>\n",
      "FeatureActivations(\n",
      "   0: (Feature(\"End of message token in multi-turn conversations\"), 0.006439208984375)\n",
      "   1: (Feature(\"Contrastive conjunctions balancing difficulties with solutions\"), 0.0)\n",
      "   2: (Feature(\"The assistant needs clarification\"), 0.0)\n",
      "   3: (Feature(\"The model is providing troubleshooting steps or guidance\"), 0.0)\n",
      "   4: (Feature(\"Punctuation marks used for pacing and engagement in teaching contexts\"), 0.0)\n",
      ")\n",
      "user\n",
      "FeatureActivations(\n",
      "   0: (Feature(\"Start of user input in conversation\"), 2.078125)\n",
      "   1: (Feature(\"Contrastive conjunctions balancing difficulties with solutions\"), 0.0)\n",
      "   2: (Feature(\"The assistant needs clarification\"), 0.0)\n",
      "   3: (Feature(\"The model is providing troubleshooting steps or guidance\"), 0.0)\n",
      "   4: (Feature(\"Punctuation marks used for pacing and engagement in teaching contexts\"), 0.0)\n",
      ")\n",
      "<|end_header_id|>\n",
      "FeatureActivations(\n",
      "   0: (Feature(\"End of user header in structured conversation format\"), 3.84375)\n",
      "   1: (Feature(\"Contrastive conjunctions balancing difficulties with solutions\"), 0.0)\n",
      "   2: (Feature(\"The assistant needs clarification\"), 0.0)\n",
      "   3: (Feature(\"The model is providing troubleshooting steps or guidance\"), 0.0)\n",
      "   4: (Feature(\"Punctuation marks used for pacing and engagement in teaching contexts\"), 0.0)\n",
      ")\n",
      "\n",
      "\n",
      "\n",
      "FeatureActivations(\n",
      "   0: (Feature(\"The model's turn to speak in a conversation\"), 3.15625)\n",
      "   1: (Feature(\"Geographic entity recognition and punctuation in location descriptions\"), 0.0108642578125)\n",
      "   2: (Feature(\"Detection of special characters and unusual text encodings\"), 0.006011962890625)\n",
      "   3: (Feature(\"Beginning of model's response or new conversation segment\"), 0.005828857421875)\n",
      "   4: (Feature(\"Beginning of header in conversation format\"), 0.002593994140625)\n",
      ")\n",
      "Option\n",
      "FeatureActivations(\n",
      "   0: (Feature(\"Handling structured data with options in programming\"), 4.5)\n",
      "   1: (Feature(\"The model is providing a list of options\"), 2.109375)\n",
      "   2: (Feature(\"Multilingual summary or conclusion request\"), 1.265625)\n",
      "   3: (Feature(\"Beginning of task or problem description\"), 1.1796875)\n",
      "   4: (Feature(\"The model is providing a list of options\"), 1.078125)\n",
      ")\n",
      " A\n",
      "FeatureActivations(\n",
      "   0: (Feature(\"Multiple choice question first answer option\"), 3.515625)\n",
      "   1: (Feature(\"References to abstract entities (e.g. tables, classes) in programming contexts\"), 1.515625)\n",
      "   2: (Feature(\"Portuguese event announcements and invitations\"), 0.77734375)\n",
      "   3: (Feature(\"Beginning of task or problem description\"), 0.76171875)\n",
      "   4: (Feature(\"Multilingual summary or conclusion request\"), 0.65625)\n",
      ")\n",
      "<|eot_id|>\n",
      "FeatureActivations(\n",
      "   0: (Feature(\"End of message token in conversation format\"), 1.9453125)\n",
      "   1: (Feature(\"End of user input in conversation\"), 0.62109375)\n",
      "   2: (Feature(\"End of model's turn in conversation\"), 0.5078125)\n",
      "   3: (Feature(\"End of message or turn in conversation\"), 0.404296875)\n",
      "   4: (Feature(\"The user has a question\"), 0.302734375)\n",
      ")\n"
     ]
    }
   ],
   "source": [
    "context = client.features.inspect(\n",
    "    [\n",
    "        {\n",
    "            \"role\": \"user\",\n",
    "            \"content\": \"Option A\"\n",
    "        },\n",
    "    ],\n",
    "    model=variant,\n",
    "\n",
    ")\n",
    "for token in context.tokens:\n",
    "    print(token._token)\n",
    "    print(token.inspect())"
   ]
  },
  {
   "cell_type": "code",
   "execution_count": null,
   "metadata": {},
   "outputs": [
    {
     "name": "stdout",
     "output_type": "stream",
     "text": [
      "<|begin_of_text|>\n",
      "FeatureActivations(\n",
      "   0: (Feature(\"feature_31937\"), 93.0)\n",
      "   1: (Feature(\"Conversation turn structure and role transitions\"), 87.5)\n",
      "   2: (Feature(\"feature_34540\"), 84.0)\n",
      "   3: (Feature(\"Beginning of a new conversation or input\"), 83.5)\n",
      "   4: (Feature(\"Detection of new input or conversation start\"), 75.5)\n",
      ")\n",
      "<|start_header_id|>\n",
      "FeatureActivations(\n",
      "   0: (Feature(\"End of message token in multi-turn conversations\"), 0.006439208984375)\n",
      "   1: (Feature(\"Contrastive conjunctions balancing difficulties with solutions\"), 0.0)\n",
      "   2: (Feature(\"The assistant needs clarification\"), 0.0)\n",
      "   3: (Feature(\"The model is providing troubleshooting steps or guidance\"), 0.0)\n",
      "   4: (Feature(\"Punctuation marks used for pacing and engagement in teaching contexts\"), 0.0)\n",
      ")\n",
      "user\n",
      "FeatureActivations(\n",
      "   0: (Feature(\"Start of user input in conversation\"), 2.078125)\n",
      "   1: (Feature(\"Contrastive conjunctions balancing difficulties with solutions\"), 0.0)\n",
      "   2: (Feature(\"The assistant needs clarification\"), 0.0)\n",
      "   3: (Feature(\"The model is providing troubleshooting steps or guidance\"), 0.0)\n",
      "   4: (Feature(\"Punctuation marks used for pacing and engagement in teaching contexts\"), 0.0)\n",
      ")\n",
      "<|end_header_id|>\n",
      "FeatureActivations(\n",
      "   0: (Feature(\"End of user header in structured conversation format\"), 3.84375)\n",
      "   1: (Feature(\"Contrastive conjunctions balancing difficulties with solutions\"), 0.0)\n",
      "   2: (Feature(\"The assistant needs clarification\"), 0.0)\n",
      "   3: (Feature(\"The model is providing troubleshooting steps or guidance\"), 0.0)\n",
      "   4: (Feature(\"Punctuation marks used for pacing and engagement in teaching contexts\"), 0.0)\n",
      ")\n",
      "\n",
      "\n",
      "\n",
      "FeatureActivations(\n",
      "   0: (Feature(\"The model's turn to speak in a conversation\"), 3.15625)\n",
      "   1: (Feature(\"Geographic entity recognition and punctuation in location descriptions\"), 0.0108642578125)\n",
      "   2: (Feature(\"Detection of special characters and unusual text encodings\"), 0.006011962890625)\n",
      "   3: (Feature(\"Beginning of model's response or new conversation segment\"), 0.005828857421875)\n",
      "   4: (Feature(\"Beginning of header in conversation format\"), 0.002593994140625)\n",
      ")\n",
      "Variable\n",
      "FeatureActivations(\n",
      "   0: (Feature(\"Programming variable concepts\"), 6.8125)\n",
      "   1: (Feature(\"Contrast between fixed and variable/moving elements in computational contexts\"), 2.421875)\n",
      "   2: (Feature(\"Variations and variability across contexts\"), 1.828125)\n",
      "   3: (Feature(\"Beginning of task or problem description\"), 1.609375)\n",
      "   4: (Feature(\"Multilingual summary or conclusion request\"), 0.87890625)\n",
      ")\n",
      " A\n",
      "FeatureActivations(\n",
      "   0: (Feature(\"Variable 'a' in programming and mathematics\"), 2.421875)\n",
      "   1: (Feature(\"References to abstract entities (e.g. tables, classes) in programming contexts\"), 1.5703125)\n",
      "   2: (Feature(\"Ordinal comparisons and rankings, especially involving 'first' or 'best'\"), 1.3671875)\n",
      "   3: (Feature(\"Common concrete nouns\"), 1.234375)\n",
      "   4: (Feature(\"Beginning of task or problem description\"), 1.1015625)\n",
      ")\n",
      "<|eot_id|>\n",
      "FeatureActivations(\n",
      "   0: (Feature(\"End of message token in conversation format\"), 2.046875)\n",
      "   1: (Feature(\"End of user input in conversation\"), 1.0859375)\n",
      "   2: (Feature(\"Conversation structure tokens (end-of-turn, start-of-speaker)\"), 0.56640625)\n",
      "   3: (Feature(\"End of model's response in conversation\"), 0.484375)\n",
      "   4: (Feature(\"End of message/turn in structured conversations\"), 0.462890625)\n",
      ")\n"
     ]
    }
   ],
   "source": [
    "context = client.features.inspect(\n",
    "    [\n",
    "        {\n",
    "            \"role\": \"user\",\n",
    "            \"content\": \"Variable A\"\n",
    "        },\n",
    "    ],\n",
    "    model=variant,\n",
    "\n",
    ")\n",
    "for token in context.tokens:\n",
    "    print(token._token)\n",
    "    print(token.inspect())"
   ]
  },
  {
   "cell_type": "code",
   "execution_count": null,
   "metadata": {},
   "outputs": [
    {
     "data": {
      "text/plain": [
       "{31937: Feature(\"feature_31937\"),\n",
       " 21750: Feature(\"Conversation turn structure and role transitions\"),\n",
       " 34540: Feature(\"feature_34540\"),\n",
       " 21914: Feature(\"Beginning of a new conversation or input\"),\n",
       " 41765: Feature(\"Detection of new input or conversation start\"),\n",
       " 60918: Feature(\"End of message token in multi-turn conversations\"),\n",
       " 18: Feature(\"Contrastive conjunctions balancing difficulties with solutions\"),\n",
       " 15: Feature(\"The assistant needs clarification\"),\n",
       " 17: Feature(\"The model is providing troubleshooting steps or guidance\"),\n",
       " 1: Feature(\"Punctuation marks used for pacing and engagement in teaching contexts\"),\n",
       " 23361: Feature(\"Start of user input in conversation\"),\n",
       " 33849: Feature(\"The model's turn to speak in a conversation\"),\n",
       " 54609: Feature(\"The AI model's turn to speak\"),\n",
       " 14765: Feature(\"The model's turn to speak in a conversation\"),\n",
       " 34623: Feature(\"The model's turn to speak in conversation\"),\n",
       " 23238: Feature(\"End of user header in structured conversation format\"),\n",
       " 28668: Feature(\"End of message token in conversation format\"),\n",
       " 4256: Feature(\"Conversation structure tokens (end-of-turn, start-of-speaker)\"),\n",
       " 54901: Feature(\"The model's turn to speak in a conversation\"),\n",
       " 24720: Feature(\"Structure of formal explanatory language\"),\n",
       " 7502: Feature(\"End of model's response in conversation\"),\n",
       " 22244: Feature(\"Start of user input in conversation\"),\n",
       " 52156: Feature(\"End of statement or dialogue turn\"),\n",
       " 28127: Feature(\"Spanish greeting 'Hola' triggering Spanish language responses\"),\n",
       " 20588: Feature(\"Spanish 'hola mundo' in programming examples\"),\n",
       " 43782: Feature(\"Greeting tokens across languages\"),\n",
       " 11895: Feature(\"Spanish greetings and salutations\"),\n",
       " 64587: Feature(\"Multilingual greetings and conversation starters\"),\n",
       " 50227: Feature(\"The user is addressing the AI model\"),\n",
       " 33505: Feature(\"Punctuation: Commas\"),\n",
       " 64861: Feature(\"End of model's response, user's turn to speak\"),\n",
       " 65037: Feature(\"User initiating conversation with a greeting\"),\n",
       " 55311: Feature(\"Comma as a punctuation mark for separating elements\"),\n",
       " 50285: Feature(\"The model's initial greeting and offer to help\"),\n",
       " 8099: Feature(\"Greeting or inquiry using 'how' across languages\"),\n",
       " 15357: Feature(\"The model offers help or asks how it can assist\"),\n",
       " 19433: Feature(\"Inquiry about well-being or status (How are you?)\"),\n",
       " 40064: Feature(\"Questions or statements beginning with 'How'\"),\n",
       " 43221: Feature(\"Detecting variations of 'how are you' across languages\"),\n",
       " 63798: Feature(\"Interrogative form of 'to be' for second and third person plural\"),\n",
       " 7878: Feature(\"Inquiring about someone's current state or condition\"),\n",
       " 6367: Feature(\"Generating 'How are you?' questions in non-English languages\"),\n",
       " 40103: Feature(\"The model's turn to speak in a conversation\"),\n",
       " 48149: Feature(\"Inquiring about someone's well-being or status\"),\n",
       " 47382: Feature(\"Inquiring about someone's well-being or current state\"),\n",
       " 51233: Feature(\"The user is directly addressing or referring to the AI model\"),\n",
       " 59281: Feature(\"Multilingual summary or conclusion request\"),\n",
       " 28031: Feature(\"Punctuation marks in conversational text\"),\n",
       " 20533: Feature(\"The model asks open-ended questions to offer help\"),\n",
       " 2959: Feature(\"Rhetorical questions for reader engagement\"),\n",
       " 61844: Feature(\"End-of-sentence punctuation, especially questions\"),\n",
       " 50240: Feature(\"Initiating 'how' questions or explanations\"),\n",
       " 9130: Feature(\"Detecting forms of 'to be' (is/was) in questions and statements\"),\n",
       " 27523: Feature(\"The model is prompting for user input or direction\"),\n",
       " 64690: Feature(\"Possessive pronoun 'your' in questions and prompts\"),\n",
       " 42786: Feature(\"Referring to the user or their possessions/actions\"),\n",
       " 61893: Feature(\"Wishing someone a good day or positive future\"),\n",
       " 9622: Feature(\"References to 'day' in schedules, plans, or well-wishes\"),\n",
       " 14095: Feature(\"Future time periods in well-wishes and planning\"),\n",
       " 47583: Feature(\"Quantitative measurements and statistics in text\"),\n",
       " 36523: Feature(\"Sentence and clause separators (commas, periods, question marks)\"),\n",
       " 37496: Feature(\"Commas and punctuation in structured lists and formatted text\"),\n",
       " 28707: Feature(\"End of model's response in conversation\"),\n",
       " 12069: Feature(\"The model's turn to speak in Spanish conversations\"),\n",
       " 36126: Feature(\"End of model's turn to speak\"),\n",
       " 1991: Feature(\"Message completion marker in chat conversations\"),\n",
       " 56507: Feature(\"The model's turn to speak in multilingual conversations\"),\n",
       " 61534: Feature(\"The model's turn to speak in a conversation\"),\n",
       " 63745: Feature(\"The model needs clarification\"),\n",
       " 19927: Feature(\"Beginning of header in conversation format\"),\n",
       " 42407: Feature(\"The user's turn to speak in a conversation\"),\n",
       " 26028: Feature(\"The user's turn to speak in a conversation with an AI model\"),\n",
       " 45951: Feature(\"User's turn to speak in multi-turn conversations\"),\n",
       " 11871: Feature(\"User's turn to speak in a conversation\"),\n",
       " 8888: Feature(\"User's turn within an ongoing conversation\"),\n",
       " 2389: Feature(\"The user has a question\"),\n",
       " 28733: Feature(\"The model's turn to speak in multi-turn conversations\"),\n",
       " 1856: Feature(\"The assistant's turn to speak in multilingual conversations\"),\n",
       " 13057: Feature(\"The model's turn to speak in a conversational context\"),\n",
       " 53598: Feature(\"The model's turn to speak in multilingual conversations\"),\n",
       " 4676: Feature(\"The model's turn to speak in Spanish conversations\"),\n",
       " 47378: Feature(\"The model's multilingual greeting responses\"),\n",
       " 3625: Feature(\"Conversation initiators and greetings across languages\"),\n",
       " 32617: Feature(\"Expressing current state or condition, especially positively\"),\n",
       " 1473: Feature(\"Punctuation marks that introduce explanatory or clarifying content\"),\n",
       " 822: Feature(\"Polite affirmative responses to how-are-you questions\"),\n",
       " 61254: Feature(\"The model is asking about the user's state or opinion\"),\n",
       " 21704: Feature(\"User Prompting for Additional Information or Elaboration\"),\n",
       " 52752: Feature(\"Detection of interrogative structures across languages\"),\n",
       " 27525: Feature(\"Explanatory connectives and argumentative structures\"),\n",
       " 36132: Feature(\"Queries or instructions beginning with 'how to'\"),\n",
       " 46763: Feature(\"AI model's self-referential language\"),\n",
       " 36553: Feature(\"The model's turn to speak in multi-turn conversations\"),\n",
       " 61654: Feature(\"User directly addressing or inquiring about the AI model's nature or capabilities\"),\n",
       " 9699: Feature(\"The model emphasizes its non-human AI nature\"),\n",
       " 4172: Feature(\"AI model self-describing as lacking emotions\"),\n",
       " 17426: Feature(\"Sequential numbers in programming contexts\"),\n",
       " 37637: Feature(\"Text formatting and punctuation, especially sentence-ending characters\"),\n",
       " 53436: Feature(\"The model's offer of further help in multilingual conversations\"),\n",
       " 49433: Feature(\"Polite reciprocation in conversations\"),\n",
       " 28015: Feature(\"The user has a question\"),\n",
       " 26727: Feature(\"End of message token in conversation format\"),\n",
       " 47563: Feature(\"End of message or turn in conversation\"),\n",
       " 13108: Feature(\"End of message token in multi-turn conversations\"),\n",
       " 33096: Feature(\"JSON-like object notation syntax\")}"
      ]
     },
     "execution_count": 36,
     "metadata": {},
     "output_type": "execute_result"
    }
   ],
   "source": [
    "context = client.features.inspect(\n",
    "    [\n",
    "        {\n",
    "            \"role\": \"assistant\",\n",
    "            \"content\": \"Hola, how are you? How is your day ?\"\n",
    "        },\n",
    "        {\n",
    "            \"role\": \"user\",\n",
    "            \"content\": \"Hola, how are you? How is your day ?\"\n",
    "        },\n",
    "    ],\n",
    "    model=variant,\n",
    ")\n",
    "matrix = context.matrix()[1]\n",
    "matrix"
   ]
  },
  {
   "cell_type": "code",
   "execution_count": null,
   "metadata": {},
   "outputs": [
    {
     "data": {
      "text/plain": [
       "[FeatureActivation(feature=Feature(\"Detecting variations of 'how are you' across languages\"), activation=3.1421875),\n",
       " FeatureActivation(feature=Feature(\"Inquiring about someone's current state or condition\"), activation=1.753173828125),\n",
       " FeatureActivation(feature=Feature(\"Inquiring about someone's well-being or current state\"), activation=1.0907118055555556),\n",
       " FeatureActivation(feature=Feature(\"Multilingual summary or conclusion request\"), activation=0.4694010416666667),\n",
       " FeatureActivation(feature=Feature(\"The model's opening greeting and offer of help\"), activation=0.36796875)]"
      ]
     },
     "execution_count": 8,
     "metadata": {},
     "output_type": "execute_result"
    }
   ],
   "source": [
    "context.top(k=5)._acts"
   ]
  },
  {
   "cell_type": "code",
   "execution_count": null,
   "metadata": {},
   "outputs": [
    {
     "data": {
      "text/plain": [
       "105"
      ]
     },
     "execution_count": 9,
     "metadata": {},
     "output_type": "execute_result"
    }
   ],
   "source": [
    "len(matrix[1])"
   ]
  },
  {
   "cell_type": "code",
   "execution_count": null,
   "metadata": {},
   "outputs": [
    {
     "name": "stdout",
     "output_type": "stream",
     "text": [
      "Token(\"assistant\")\n",
      "23361\n",
      "1.640625\n",
      "33849\n",
      "1.5390625\n",
      "54609\n",
      "1.0625\n",
      "14765\n",
      "0.8984375\n",
      "34623\n",
      "0.86328125\n",
      "Token(\"\n",
      "\n",
      "\")\n",
      "14765\n",
      "2.953125\n",
      "24720\n",
      "0.55078125\n",
      "7502\n",
      "0.376953125\n",
      "22244\n",
      "0.32421875\n",
      "52156\n",
      "0.318359375\n",
      "Token(\"Hola\")\n",
      "28127\n",
      "3.25\n",
      "20588\n",
      "1.828125\n",
      "43782\n",
      "0.984375\n",
      "11895\n",
      "0.98046875\n",
      "64587\n",
      "0.9765625\n",
      "Token(\",\")\n",
      "50227\n",
      "2.84375\n",
      "33505\n",
      "1.171875\n",
      "64861\n",
      "1.078125\n",
      "65037\n",
      "0.73828125\n",
      "55311\n",
      "0.71875\n",
      "Token(\" how\")\n",
      "50285\n",
      "3.453125\n",
      "8099\n",
      "1.9296875\n",
      "15357\n",
      "1.9140625\n",
      "19433\n",
      "1.3203125\n",
      "40064\n",
      "1.21875\n",
      "Token(\" are\")\n",
      "43221\n",
      "7.15625\n",
      "63798\n",
      "1.9296875\n",
      "7878\n",
      "0.37890625\n",
      "6367\n",
      "0.326171875\n",
      "40103\n",
      "0.2451171875\n",
      "Token(\" you\")\n",
      "48149\n",
      "5.1875\n",
      "47382\n",
      "1.6015625\n",
      "51233\n",
      "1.1171875\n",
      "59281\n",
      "0.50390625\n",
      "43221\n",
      "0.421875\n",
      "Token(\"?\")\n",
      "28031\n",
      "2.03125\n",
      "20533\n",
      "1.21875\n",
      "47382\n",
      "1.0234375\n",
      "2959\n",
      "0.734375\n",
      "61844\n",
      "0.7265625\n",
      "Token(\" How\")\n",
      "19433\n",
      "2.671875\n",
      "50285\n",
      "2.453125\n",
      "15357\n",
      "2.15625\n",
      "50240\n",
      "0.81640625\n",
      "7878\n",
      "0.734375\n",
      "Token(\" is\")\n",
      "7878\n",
      "3.78125\n",
      "9130\n",
      "2.765625\n",
      "27523\n",
      "1.71875\n",
      "43221\n",
      "1.671875\n",
      "6367\n",
      "0.83203125\n",
      "Token(\" your\")\n",
      "7878\n",
      "2.40625\n",
      "64690\n",
      "1.53125\n",
      "42786\n",
      "1.53125\n",
      "48149\n",
      "1.2734375\n",
      "61893\n",
      "1.171875\n",
      "Token(\" day\")\n",
      "9622\n",
      "4.25\n",
      "14095\n",
      "2.921875\n",
      "7878\n",
      "2.578125\n",
      "48149\n",
      "2.359375\n",
      "47583\n",
      "2.15625\n",
      "Token(\"?\")\n",
      "28031\n",
      "2.65625\n",
      "36523\n",
      "1.4765625\n",
      "37496\n",
      "1.328125\n",
      "47382\n",
      "1.09375\n",
      "20533\n",
      "1.0078125\n",
      "Token(\"user\")\n",
      "42407\n",
      "3.359375\n",
      "26028\n",
      "1.7890625\n",
      "45951\n",
      "1.75\n",
      "11871\n",
      "0.8828125\n",
      "8888\n",
      "0.5546875\n",
      "Token(\"\n",
      "\n",
      "\")\n",
      "7502\n",
      "1.3359375\n",
      "53598\n",
      "0.5859375\n",
      "63745\n",
      "0.5234375\n",
      "4676\n",
      "0.384765625\n",
      "64861\n",
      "0.220703125\n",
      "Token(\"Hola\")\n",
      "28127\n",
      "3.296875\n",
      "47378\n",
      "3.1875\n",
      "20588\n",
      "1.375\n",
      "3625\n",
      "1.0390625\n",
      "64587\n",
      "0.875\n",
      "Token(\",\")\n",
      "32617\n",
      "1.0859375\n",
      "1473\n",
      "0.9296875\n",
      "55311\n",
      "0.703125\n",
      "822\n",
      "0.59765625\n",
      "64861\n",
      "0.53515625\n",
      "Token(\" how\")\n",
      "19433\n",
      "3.453125\n",
      "40064\n",
      "2.453125\n",
      "8099\n",
      "1.390625\n",
      "61254\n",
      "1.1796875\n",
      "50285\n",
      "1.1796875\n",
      "Token(\" are\")\n",
      "43221\n",
      "5.46875\n",
      "63798\n",
      "1.8046875\n",
      "6367\n",
      "0.9921875\n",
      "61254\n",
      "0.9453125\n",
      "47382\n",
      "0.80078125\n",
      "Token(\" you\")\n",
      "48149\n",
      "2.921875\n",
      "47382\n",
      "2.578125\n",
      "51233\n",
      "0.75390625\n",
      "21704\n",
      "0.6015625\n",
      "61254\n",
      "0.57421875\n",
      "Token(\"?\")\n",
      "61844\n",
      "1.1875\n",
      "2959\n",
      "1.1484375\n",
      "28031\n",
      "0.98046875\n",
      "52752\n",
      "0.7109375\n",
      "27525\n",
      "0.5703125\n",
      "Token(\" How\")\n",
      "19433\n",
      "2.515625\n",
      "40064\n",
      "1.5390625\n",
      "8099\n",
      "1.0390625\n",
      "36132\n",
      "0.96484375\n",
      "61254\n",
      "0.80859375\n",
      "Token(\" is\")\n",
      "7878\n",
      "2.578125\n",
      "9130\n",
      "2.40625\n",
      "6367\n",
      "1.46875\n",
      "43221\n",
      "0.9921875\n",
      "61893\n",
      "0.80078125\n",
      "Token(\" your\")\n",
      "46763\n",
      "1.65625\n",
      "36553\n",
      "1.296875\n",
      "61654\n",
      "1.28125\n",
      "9699\n",
      "1.28125\n",
      "4172\n",
      "1.0234375\n",
      "Token(\" day\")\n",
      "9622\n",
      "2.90625\n",
      "17426\n",
      "2.734375\n",
      "37637\n",
      "2.5625\n",
      "53436\n",
      "1.9765625\n",
      "14095\n",
      "1.6484375\n",
      "Token(\"?\")\n",
      "36523\n",
      "1.6484375\n",
      "49433\n",
      "1.1640625\n",
      "61844\n",
      "1.0078125\n",
      "3625\n",
      "0.80078125\n",
      "28015\n",
      "0.765625\n"
     ]
    }
   ],
   "source": [
    "for token in context.tokens:\n",
    "    if not (\"<|\" in token.__str__() and \"|>\" in token.__str__()) :\n",
    "        print(token)\n",
    "        for act in token.inspect()._acts:\n",
    "            print(act.feature.index_in_sae)\n",
    "            print(act.activation)"
   ]
  },
  {
   "cell_type": "code",
   "execution_count": null,
   "metadata": {},
   "outputs": [
    {
     "data": {
      "text/plain": [
       "'<|begin_of_text|>'"
      ]
     },
     "execution_count": 23,
     "metadata": {},
     "output_type": "execute_result"
    }
   ],
   "source": [
    "context.tokens[0]._token"
   ]
  },
  {
   "cell_type": "code",
   "execution_count": null,
   "metadata": {},
   "outputs": [],
   "source": [
    "import networkx as nx\n",
    "from itertools import combinations\n",
    "\n",
    "G = nx.Graph()\n",
    "\n",
    "for token in context.tokens:\n",
    "    if not (\"<|\" in token.__str__() and \"|>\" in token.__str__()) :\n",
    "        node_feature_ids = [act.feature.index_in_sae for act in token.inspect()._acts]\n",
    "        feature_edges = [(u,v) for u, v in combinations(node_feature_ids, 2)]\n",
    "        for edge in feature_edges:\n",
    "            if G.has_edge(edge[0], edge[1]):\n",
    "                G[edge[0]][edge[1]][\"weight\"]+=1\n",
    "            else:\n",
    "                G.add_edge(edge[0],edge[1], weight=1)\n",
    "\n"
   ]
  },
  {
   "cell_type": "code",
   "execution_count": null,
   "metadata": {},
   "outputs": [
    {
     "name": "stdout",
     "output_type": "stream",
     "text": [
      "[(23361, 33849, {'weight': 1}), (23361, 54609, {'weight': 1}), (23361, 14765, {'weight': 1}), (23361, 34623, {'weight': 1}), (33849, 54609, {'weight': 1}), (33849, 14765, {'weight': 1}), (33849, 34623, {'weight': 1}), (54609, 14765, {'weight': 1}), (54609, 34623, {'weight': 1}), (14765, 34623, {'weight': 1}), (14765, 24720, {'weight': 1}), (14765, 7502, {'weight': 1}), (14765, 22244, {'weight': 1}), (14765, 52156, {'weight': 1}), (24720, 7502, {'weight': 1}), (24720, 22244, {'weight': 1}), (24720, 52156, {'weight': 1}), (7502, 22244, {'weight': 1}), (7502, 52156, {'weight': 1}), (7502, 53598, {'weight': 1}), (7502, 63745, {'weight': 1}), (7502, 4676, {'weight': 1}), (7502, 64861, {'weight': 1}), (22244, 52156, {'weight': 1}), (28127, 20588, {'weight': 2}), (28127, 43782, {'weight': 1}), (28127, 11895, {'weight': 1}), (28127, 64587, {'weight': 2}), (28127, 47378, {'weight': 1}), (28127, 3625, {'weight': 1}), (20588, 43782, {'weight': 1}), (20588, 11895, {'weight': 1}), (20588, 64587, {'weight': 2}), (20588, 47378, {'weight': 1}), (20588, 3625, {'weight': 1}), (43782, 11895, {'weight': 1}), (43782, 64587, {'weight': 1}), (11895, 64587, {'weight': 1}), (64587, 47378, {'weight': 1}), (64587, 3625, {'weight': 1}), (50227, 33505, {'weight': 1}), (50227, 64861, {'weight': 1}), (50227, 65037, {'weight': 1}), (50227, 55311, {'weight': 1}), (33505, 64861, {'weight': 1}), (33505, 65037, {'weight': 1}), (33505, 55311, {'weight': 1}), (64861, 65037, {'weight': 1}), (64861, 55311, {'weight': 2}), (64861, 53598, {'weight': 1}), (64861, 63745, {'weight': 1}), (64861, 4676, {'weight': 1}), (64861, 32617, {'weight': 1}), (64861, 1473, {'weight': 1}), (64861, 822, {'weight': 1}), (65037, 55311, {'weight': 1}), (55311, 32617, {'weight': 1}), (55311, 1473, {'weight': 1}), (55311, 822, {'weight': 1}), (50285, 8099, {'weight': 2}), (50285, 15357, {'weight': 2}), (50285, 19433, {'weight': 3}), (50285, 40064, {'weight': 2}), (50285, 50240, {'weight': 1}), (50285, 7878, {'weight': 1}), (50285, 61254, {'weight': 1}), (8099, 15357, {'weight': 1}), (8099, 19433, {'weight': 3}), (8099, 40064, {'weight': 3}), (8099, 61254, {'weight': 2}), (8099, 36132, {'weight': 1}), (15357, 19433, {'weight': 2}), (15357, 40064, {'weight': 1}), (15357, 50240, {'weight': 1}), (15357, 7878, {'weight': 1}), (19433, 40064, {'weight': 3}), (19433, 50240, {'weight': 1}), (19433, 7878, {'weight': 1}), (19433, 61254, {'weight': 2}), (19433, 36132, {'weight': 1}), (40064, 61254, {'weight': 2}), (40064, 36132, {'weight': 1}), (43221, 63798, {'weight': 2}), (43221, 7878, {'weight': 3}), (43221, 6367, {'weight': 4}), (43221, 40103, {'weight': 1}), (43221, 48149, {'weight': 1}), (43221, 47382, {'weight': 2}), (43221, 51233, {'weight': 1}), (43221, 59281, {'weight': 1}), (43221, 9130, {'weight': 2}), (43221, 27523, {'weight': 1}), (43221, 61254, {'weight': 1}), (43221, 61893, {'weight': 1}), (63798, 7878, {'weight': 1}), (63798, 6367, {'weight': 2}), (63798, 40103, {'weight': 1}), (63798, 61254, {'weight': 1}), (63798, 47382, {'weight': 1}), (7878, 6367, {'weight': 3}), (7878, 40103, {'weight': 1}), (7878, 50240, {'weight': 1}), (7878, 9130, {'weight': 2}), (7878, 27523, {'weight': 1}), (7878, 64690, {'weight': 1}), (7878, 42786, {'weight': 1}), (7878, 48149, {'weight': 2}), (7878, 61893, {'weight': 2}), (7878, 9622, {'weight': 1}), (7878, 14095, {'weight': 1}), (7878, 47583, {'weight': 1}), (6367, 40103, {'weight': 1}), (6367, 9130, {'weight': 2}), (6367, 27523, {'weight': 1}), (6367, 61254, {'weight': 1}), (6367, 47382, {'weight': 1}), (6367, 61893, {'weight': 1}), (48149, 47382, {'weight': 2}), (48149, 51233, {'weight': 2}), (48149, 59281, {'weight': 1}), (48149, 64690, {'weight': 1}), (48149, 42786, {'weight': 1}), (48149, 61893, {'weight': 1}), (48149, 9622, {'weight': 1}), (48149, 14095, {'weight': 1}), (48149, 47583, {'weight': 1}), (48149, 21704, {'weight': 1}), (48149, 61254, {'weight': 1}), (47382, 51233, {'weight': 2}), (47382, 59281, {'weight': 1}), (47382, 28031, {'weight': 2}), (47382, 20533, {'weight': 2}), (47382, 2959, {'weight': 1}), (47382, 61844, {'weight': 1}), (47382, 36523, {'weight': 1}), (47382, 37496, {'weight': 1}), (47382, 61254, {'weight': 2}), (47382, 21704, {'weight': 1}), (51233, 59281, {'weight': 1}), (51233, 21704, {'weight': 1}), (51233, 61254, {'weight': 1}), (28031, 20533, {'weight': 2}), (28031, 2959, {'weight': 2}), (28031, 61844, {'weight': 2}), (28031, 36523, {'weight': 1}), (28031, 37496, {'weight': 1}), (28031, 52752, {'weight': 1}), (28031, 27525, {'weight': 1}), (20533, 2959, {'weight': 1}), (20533, 61844, {'weight': 1}), (20533, 36523, {'weight': 1}), (20533, 37496, {'weight': 1}), (2959, 61844, {'weight': 2}), (2959, 52752, {'weight': 1}), (2959, 27525, {'weight': 1}), (61844, 52752, {'weight': 1}), (61844, 27525, {'weight': 1}), (61844, 36523, {'weight': 1}), (61844, 49433, {'weight': 1}), (61844, 3625, {'weight': 1}), (61844, 28015, {'weight': 1}), (9130, 27523, {'weight': 1}), (9130, 61893, {'weight': 1}), (64690, 42786, {'weight': 1}), (64690, 61893, {'weight': 1}), (42786, 61893, {'weight': 1}), (9622, 14095, {'weight': 2}), (9622, 47583, {'weight': 1}), (9622, 17426, {'weight': 1}), (9622, 37637, {'weight': 1}), (9622, 53436, {'weight': 1}), (14095, 47583, {'weight': 1}), (14095, 17426, {'weight': 1}), (14095, 37637, {'weight': 1}), (14095, 53436, {'weight': 1}), (36523, 37496, {'weight': 1}), (36523, 49433, {'weight': 1}), (36523, 3625, {'weight': 1}), (36523, 28015, {'weight': 1}), (42407, 26028, {'weight': 1}), (42407, 45951, {'weight': 1}), (42407, 11871, {'weight': 1}), (42407, 8888, {'weight': 1}), (26028, 45951, {'weight': 1}), (26028, 11871, {'weight': 1}), (26028, 8888, {'weight': 1}), (45951, 11871, {'weight': 1}), (45951, 8888, {'weight': 1}), (11871, 8888, {'weight': 1}), (53598, 63745, {'weight': 1}), (53598, 4676, {'weight': 1}), (63745, 4676, {'weight': 1}), (47378, 3625, {'weight': 1}), (3625, 49433, {'weight': 1}), (3625, 28015, {'weight': 1}), (32617, 1473, {'weight': 1}), (32617, 822, {'weight': 1}), (1473, 822, {'weight': 1}), (61254, 21704, {'weight': 1}), (61254, 36132, {'weight': 1}), (52752, 27525, {'weight': 1}), (46763, 36553, {'weight': 1}), (46763, 61654, {'weight': 1}), (46763, 9699, {'weight': 1}), (46763, 4172, {'weight': 1}), (36553, 61654, {'weight': 1}), (36553, 9699, {'weight': 1}), (36553, 4172, {'weight': 1}), (61654, 9699, {'weight': 1}), (61654, 4172, {'weight': 1}), (9699, 4172, {'weight': 1}), (17426, 37637, {'weight': 1}), (17426, 53436, {'weight': 1}), (37637, 53436, {'weight': 1}), (49433, 28015, {'weight': 1})]\n"
     ]
    }
   ],
   "source": [
    "print(G.edges(data=True))"
   ]
  },
  {
   "cell_type": "code",
   "execution_count": null,
   "metadata": {},
   "outputs": [
    {
     "data": {
      "application/vnd.jupyter.widget-view+json": {
       "model_id": "ae1d0eac461b4b5bb33caa81e6a1c71a",
       "version_major": 2,
       "version_minor": 0
      },
      "text/plain": [
       "Sigma(nx.Graph with 76 nodes and 215 edges)"
      ]
     },
     "execution_count": 14,
     "metadata": {},
     "output_type": "execute_result"
    }
   ],
   "source": [
    "from ipysigma import Sigma\n",
    "\n",
    "\n",
    "\n",
    "Sigma(G, node_color_gradient='Viridis', start_layout=10)"
   ]
  },
  {
   "cell_type": "code",
   "execution_count": null,
   "metadata": {},
   "outputs": [
    {
     "data": {
      "text/plain": [
       "FeatureActivations(\n",
       "   0: (Feature(\"User's initial greeting to start a conversation\"), 3.484375)\n",
       "   1: (Feature(\"Greeting or inquiry using 'how' across languages\"), 2.1354166666666665)\n",
       "   2: (Feature(\"Inquiring about someone's well-being or status\"), 2.0572916666666665)\n",
       "   3: (Feature(\"Inquiring about someone's current state or condition\"), 2.00146484375)\n",
       "   4: (Feature(\"User initiating conversation with a greeting\"), 1.59765625)\n",
       "   5: (Feature(\"Inquiring about someone's well-being or current state\"), 1.405029296875)\n",
       "   6: (Feature(\"Informal conversation starters like 'Hi' or 'Hey'\"), 0.7451171875)\n",
       "   7: (Feature(\"The model's turn to speak in a conversation\"), 0.5673828125)\n",
       "   8: (Feature(\"Multilingual summary or conclusion request\"), 0.46261160714285715)\n",
       "   9: (Feature(\"The model's opening greeting and offer of help\"), 0.4560546875)\n",
       ")"
      ]
     },
     "execution_count": 15,
     "metadata": {},
     "output_type": "execute_result"
    }
   ],
   "source": [
    "context = client.features.inspect(\n",
    "    [\n",
    "        {\n",
    "            \"role\": \"user\",\n",
    "            \"content\": \"Hello, how are you? How is your day ?\"\n",
    "        },\n",
    "    ],\n",
    "    model=variant,\n",
    ")\n",
    "context.top(10)"
   ]
  },
  {
   "cell_type": "code",
   "execution_count": null,
   "metadata": {},
   "outputs": [],
   "source": [
    "context = client.features.inspect(\n",
    "    [\n",
    "        {\n",
    "            \"role\": \"user\",\n",
    "            \"content\": \"Hola, how are you? How is your day ?\"\n",
    "        },\n",
    "        {\n",
    "            \"role\": \"user\",\n",
    "            \"content\": \"Hola, how are you? How is your day ?\"\n",
    "        },\n",
    "        {\n",
    "            \"role\": \"user\",\n",
    "            \"content\": \"Hola, how are you? How is your day ?\"\n",
    "        },\n",
    "        {\n",
    "            \"role\": \"user\",\n",
    "            \"content\": \"Hola, how are you? How is your day ?\"\n",
    "        },\n",
    "                {\n",
    "            \"role\": \"user\",\n",
    "            \"content\": \"Hola, how are you? How is your day ?\"\n",
    "        },\n",
    "    ],\n",
    "    model=variant,\n",
    ")\n",
    "top_10_feature = context.top(10)"
   ]
  },
  {
   "cell_type": "code",
   "execution_count": null,
   "metadata": {},
   "outputs": [
    {
     "data": {
      "text/plain": [
       "FeatureActivations(\n",
       "   0: (Feature(\"Greeting or inquiry using 'how' across languages\"), 2.1126302083333335)\n",
       "   1: (Feature(\"Inquiring about someone's well-being or status\"), 2.0234375)\n",
       "   2: (Feature(\"Inquiring about someone's current state or condition\"), 1.57890625)\n",
       "   3: (Feature(\"Multilingual greetings and conversation starters\"), 1.4150390625)\n",
       "   4: (Feature(\"Inquiring about someone's well-being or current state\"), 1.352783203125)\n",
       "   5: (Feature(\"Spanish greetings and salutations\"), 0.76171875)\n",
       "   6: (Feature(\"End of model's response, user's turn to speak\"), 0.6943359375)\n",
       "   7: (Feature(\"Multilingual summary or conclusion request\"), 0.68828125)\n",
       "   8: (Feature(\"The model's turn to speak in a conversation\"), 0.5986328125)\n",
       "   9: (Feature(\"Portuguese event announcements and invitations\"), 0.310546875)\n",
       ")"
      ]
     },
     "execution_count": 17,
     "metadata": {},
     "output_type": "execute_result"
    }
   ],
   "source": [
    "context = client.features.inspect(\n",
    "    [\n",
    "        {\n",
    "            \"role\": \"user\",\n",
    "            \"content\": \"Hola, how are you? How is your day ?\"\n",
    "        }\n",
    "    ],\n",
    "    model=variant,\n",
    ")\n",
    "context.top(10)"
   ]
  },
  {
   "cell_type": "code",
   "execution_count": null,
   "metadata": {},
   "outputs": [],
   "source": [
    "import networkx as nx\n",
    "from itertools import combinations\n",
    "\n",
    "G = nx.Graph()\n",
    "\n",
    "for token in context.tokens:\n",
    "    if not (\"<|\" in token.__str__() and \"|>\" in token.__str__()) :\n",
    "        node_feature_ids = [act.feature.index_in_sae for act in token.inspect()._acts]\n",
    "        node_feature_activations = [act.activation for act in token.inspect()._acts]\n",
    "        feature_edges = [(u,v) for u, v in combinations(node_feature_ids, 2)]\n",
    "        for edge in feature_edges:\n",
    "            if G.has_edge(edge[0], edge[1]):\n",
    "                G[edge[0]][edge[1]][\"weight\"]+=1\n",
    "            else:\n",
    "                G.add_edge(edge[0],edge[1], weight=1)"
   ]
  },
  {
   "cell_type": "code",
   "execution_count": null,
   "metadata": {},
   "outputs": [],
   "source": [
    "G = nx.Graph()\n",
    "\n",
    "node_feature_ids = [\"A\", \"B\", \"C\", \"D\"]\n",
    "feature_edges = [(u,v) for u, v in combinations(node_feature_ids, 2)]\n",
    "for edge in feature_edges:\n",
    "    if G.has_edge(edge[0], edge[1]):\n",
    "        G[edge[0]][edge[1]][\"weight\"]+=1\n",
    "    else:\n",
    "        G.add_edge(edge[0],edge[1], weight=1)\n",
    "\n",
    "node_feature_ids = [\"A\", \"B\"]\n",
    "feature_edges = [(u,v) for u, v in combinations(node_feature_ids, 2)]\n",
    "for edge in feature_edges:\n",
    "    if G.has_edge(edge[0], edge[1]):\n",
    "        G[edge[0]][edge[1]][\"weight\"]+=1\n",
    "    else:\n",
    "        G.add_edge(edge[0],edge[1], weight=1)\n",
    "\n",
    "node_feature_ids = [\"A\", \"B\",\"C\"]\n",
    "feature_edges = [(u,v) for u, v in combinations(node_feature_ids, 2)]\n",
    "for edge in feature_edges:\n",
    "    if G.has_edge(edge[0], edge[1]):\n",
    "        G[edge[0]][edge[1]][\"weight\"]+=1\n",
    "    else:\n",
    "        G.add_edge(edge[0],edge[1], weight=1)"
   ]
  },
  {
   "cell_type": "code",
   "execution_count": null,
   "metadata": {},
   "outputs": [
    {
     "data": {
      "application/vnd.jupyter.widget-view+json": {
       "model_id": "43ebc3dfa863482a8522f81eff62f842",
       "version_major": 2,
       "version_minor": 0
      },
      "text/plain": [
       "Sigma(nx.Graph with 4 nodes and 6 edges)"
      ]
     },
     "execution_count": 20,
     "metadata": {},
     "output_type": "execute_result"
    }
   ],
   "source": [
    "Sigma(G, node_color_gradient='Viridis', start_layout=10, edge_size= \"weight\")"
   ]
  },
  {
   "cell_type": "code",
   "execution_count": null,
   "metadata": {},
   "outputs": [],
   "source": []
  }
 ],
 "metadata": {
  "kernelspec": {
   "display_name": ".venv",
   "language": "python",
   "name": "python3"
  },
  "language_info": {
   "codemirror_mode": {
    "name": "ipython",
    "version": 3
   },
   "file_extension": ".py",
   "mimetype": "text/x-python",
   "name": "python",
   "nbconvert_exporter": "python",
   "pygments_lexer": "ipython3",
   "version": "3.12.2"
  }
 },
 "nbformat": 4,
 "nbformat_minor": 2
}
